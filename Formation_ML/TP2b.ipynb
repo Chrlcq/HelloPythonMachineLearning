{
 "cells": [
  {
   "cell_type": "markdown",
   "metadata": {},
   "source": [
    "# TP2 Heart Disease #Santé (partie 2)\n",
    "## Prédiction des patients atteints de maladie cardiovasculaire\n",
    "\n",
    "Objectif : appréhender et développer toutes les étapes permettant l’utilisation d’une méthode d’apprentissage automatique supervisée\n",
    "\n",
    "- Exploration de données\n",
    "- Découper le jeu de données en une partie pour l’apprentissage et l’autre pour le test\n",
    "- Évaluation et comparaison des différents algorithmes sur les modèles fournis\n",
    "- Matrice de confusion\n",
    "- Courbe ROC\n",
    "\n",
    "Méthodes : \n",
    "- Arbre de décision\n",
    "- Forêts aléatoires\n"
   ]
  },
  {
   "cell_type": "markdown",
   "metadata": {},
   "source": [
    "Dans Anaconda Prompt :\n",
    "- pip install eli5\n",
    "- pip install sklearn\n",
    "- pip install pdpbox\n",
    "- pip install pydotplus"
   ]
  },
  {
   "cell_type": "code",
   "execution_count": 4,
   "metadata": {
    "_cell_guid": "b1076dfc-b9ad-4769-8c92-a6c4dae69d19",
    "_uuid": "8f2839f25d086af736a60e9eeb907d3b93b6e0e5"
   },
   "outputs": [],
   "source": [
    "import numpy as np\n",
    "import pandas as pd\n",
    "import matplotlib.pyplot as plt\n",
    "import seaborn as sns #for plotting\n",
    "from sklearn.ensemble import RandomForestClassifier #for the model\n",
    "from sklearn import tree\n",
    "from sklearn.tree import DecisionTreeClassifier\n",
    "from sklearn.tree import export_graphviz #plot tree\n",
    "from sklearn.metrics import roc_curve, auc #for model evaluation\n",
    "from sklearn.metrics import classification_report #for model evaluation\n",
    "from sklearn.metrics import confusion_matrix #for model evaluation\n",
    "from sklearn.model_selection import train_test_split #for data splitting\n",
    "import eli5 #for purmutation importance\n",
    "from eli5.sklearn import PermutationImportance\n",
    "#import shap #for SHAP values\n",
    "from pdpbox import pdp, info_plots #for partial plots\n",
    "import pydotplus\n",
    "np.random.seed(123) #ensure reproducibility\n",
    "\n",
    "pd.options.mode.chained_assignment = None  #hide any pandas warnings"
   ]
  },
  {
   "cell_type": "markdown",
   "metadata": {
    "_uuid": "87aec28b7dd55601a7363cb7b613907e98f24518"
   },
   "source": [
    "<a id='section2'></a>"
   ]
  },
  {
   "cell_type": "code",
   "execution_count": 5,
   "metadata": {
    "_cell_guid": "79c7e3d0-c299-4dcb-8224-4455121ee9b0",
    "_uuid": "d629ff2d2480ee46fbb7e2d37f6b5fab8052498a"
   },
   "outputs": [],
   "source": [
    "df = pd.read_csv(\"heart.csv\")"
   ]
  },
  {
   "cell_type": "code",
   "execution_count": 6,
   "metadata": {
    "_uuid": "f3caf3de0a7e6d4602b26a1e72bf42d42ef0aac0"
   },
   "outputs": [],
   "source": [
    "#Renommer les noms de colonnes\n",
    "df.columns = ['age', 'sex', 'chest_pain_type', 'resting_blood_pressure', 'cholesterol', 'fasting_blood_sugar', 'rest_ecg', 'max_heart_rate_achieved',\n",
    "       'exercise_induced_angina', 'st_depression', 'st_slope', 'num_major_vessels', 'thalassemia', 'target']"
   ]
  },
  {
   "cell_type": "code",
   "execution_count": 7,
   "metadata": {
    "_uuid": "12edd841e271a4f7c8c039aa73412c0d6d7e5dad"
   },
   "outputs": [],
   "source": [
    "#Définir les types appropriés : les variables numériques discrètes deviennent de type object car elles ne sont pas continues\n",
    "df['sex'] = df['sex'].astype('object')\n",
    "df['chest_pain_type'] = df['chest_pain_type'].astype('object')\n",
    "df['fasting_blood_sugar'] = df['fasting_blood_sugar'].astype('object')\n",
    "df['rest_ecg'] = df['rest_ecg'].astype('object')\n",
    "df['exercise_induced_angina'] = df['exercise_induced_angina'].astype('object')\n",
    "df['st_slope'] = df['st_slope'].astype('object')\n",
    "df['thalassemia'] = df['thalassemia'].astype('object')"
   ]
  },
  {
   "cell_type": "code",
   "execution_count": 8,
   "metadata": {
    "_uuid": "55c1d2d27385000bb2c9fc24bde9e4278427d507"
   },
   "outputs": [
    {
     "data": {
      "text/plain": [
       "age                          int64\n",
       "sex                         object\n",
       "chest_pain_type             object\n",
       "resting_blood_pressure       int64\n",
       "cholesterol                  int64\n",
       "fasting_blood_sugar         object\n",
       "rest_ecg                    object\n",
       "max_heart_rate_achieved      int64\n",
       "exercise_induced_angina     object\n",
       "st_depression              float64\n",
       "st_slope                    object\n",
       "num_major_vessels            int64\n",
       "thalassemia                 object\n",
       "target                       int64\n",
       "dtype: object"
      ]
     },
     "execution_count": 8,
     "metadata": {},
     "output_type": "execute_result"
    }
   ],
   "source": [
    "#Vérification des nouveaux types\n",
    "df.dtypes"
   ]
  },
  {
   "cell_type": "markdown",
   "metadata": {},
   "source": [
    "Note : target ne doit pas passer en objet sinon message d'erreur dans l'arbre de décision"
   ]
  },
  {
   "cell_type": "markdown",
   "metadata": {
    "_uuid": "771e4a2e2c9c25b99fee912eee47c97c6cb3b1cc"
   },
   "source": [
    "<a id='section3'></a>"
   ]
  },
  {
   "cell_type": "markdown",
   "metadata": {},
   "source": [
    "### Base d'apprentissage et de test"
   ]
  },
  {
   "cell_type": "markdown",
   "metadata": {},
   "source": [
    "La base d'apprentissage et de test sont respectivement de 80% et 20% du jeu de données. "
   ]
  },
  {
   "cell_type": "code",
   "execution_count": 6,
   "metadata": {
    "_uuid": "315ebc70bfe105f4b224974415db867d3d1e6b66"
   },
   "outputs": [],
   "source": [
    "#split the data\n",
    "X_train, X_test, y_train, y_test = train_test_split(df.drop('target', 1), \n",
    "                                                    df['target'], \n",
    "                                                    test_size = .2, \n",
    "                                                    random_state=10) "
   ]
  },
  {
   "cell_type": "code",
   "execution_count": 7,
   "metadata": {},
   "outputs": [
    {
     "data": {
      "text/plain": [
       "242"
      ]
     },
     "execution_count": 7,
     "metadata": {},
     "output_type": "execute_result"
    }
   ],
   "source": [
    "#Nombre de lignes dans le jeu d'apprentissage\n",
    "X_train.shape[0]"
   ]
  },
  {
   "cell_type": "code",
   "execution_count": 8,
   "metadata": {},
   "outputs": [
    {
     "data": {
      "text/plain": [
       "61"
      ]
     },
     "execution_count": 8,
     "metadata": {},
     "output_type": "execute_result"
    }
   ],
   "source": [
    "#Nombre de lignes dans le jeu de test\n",
    "X_test.shape[0]"
   ]
  },
  {
   "cell_type": "markdown",
   "metadata": {},
   "source": [
    "# Arbre de décision"
   ]
  },
  {
   "cell_type": "code",
   "execution_count": 9,
   "metadata": {},
   "outputs": [
    {
     "data": {
      "text/plain": [
       "DecisionTreeClassifier(class_weight=None, criterion='gini', max_depth=None,\n",
       "                       max_features=None, max_leaf_nodes=None,\n",
       "                       min_impurity_decrease=0.0, min_impurity_split=None,\n",
       "                       min_samples_leaf=1, min_samples_split=2,\n",
       "                       min_weight_fraction_leaf=0.0, presort=False,\n",
       "                       random_state=None, splitter='best')"
      ]
     },
     "execution_count": 9,
     "metadata": {},
     "output_type": "execute_result"
    }
   ],
   "source": [
    "#Arbre de décision\n",
    "dtc = DecisionTreeClassifier()\n",
    "\n",
    "dtc.fit(X_train, y_train)"
   ]
  },
  {
   "cell_type": "code",
   "execution_count": 10,
   "metadata": {},
   "outputs": [],
   "source": [
    "#Estime la variable cible de la base de test\n",
    "y_esti_tree = dtc.predict(X_test)"
   ]
  },
  {
   "cell_type": "code",
   "execution_count": 11,
   "metadata": {},
   "outputs": [
    {
     "data": {
      "text/plain": [
       "array([0, 0, 1, 1, 1, 1, 0, 1, 1], dtype=int64)"
      ]
     },
     "execution_count": 11,
     "metadata": {},
     "output_type": "execute_result"
    }
   ],
   "source": [
    "#Affiche les 10 premiers résultats\n",
    "y_esti_tree[1:10]"
   ]
  },
  {
   "cell_type": "code",
   "execution_count": 12,
   "metadata": {},
   "outputs": [],
   "source": [
    "#Matrice de confusion\n",
    "confusion_matrice_tree = confusion_matrix(y_test, y_esti_tree)"
   ]
  },
  {
   "cell_type": "code",
   "execution_count": 13,
   "metadata": {},
   "outputs": [
    {
     "data": {
      "text/plain": [
       "array([[25, 10],\n",
       "       [ 4, 22]], dtype=int64)"
      ]
     },
     "execution_count": 13,
     "metadata": {},
     "output_type": "execute_result"
    }
   ],
   "source": [
    "confusion_matrice_tree\n",
    "#https://scikit-learn.org/stable/modules/generated/sklearn.metrics.confusion_matrix.html#sklearn.metrics.confusion_matrix\n",
    "#En ligne : les classes réelles\n",
    "#En colonnes : les classes prédites"
   ]
  },
  {
   "cell_type": "code",
   "execution_count": 14,
   "metadata": {},
   "outputs": [
    {
     "name": "stdout",
     "output_type": "stream",
     "text": [
      "True Negative : 25\n",
      "False Positive : 10\n",
      "False Negative : 4\n",
      "True Positive : 22\n"
     ]
    }
   ],
   "source": [
    "tn, fp, fn, tp = confusion_matrix(y_test, y_esti_tree).ravel()\n",
    "print(\"True Negative : \" + str(tn))\n",
    "print(\"False Positive : \" + str(fp))\n",
    "print(\"False Negative : \" + str(fn))\n",
    "print(\"True Positive : \" + str(tp))"
   ]
  },
  {
   "cell_type": "markdown",
   "metadata": {
    "_uuid": "f3c07791675d016442995f1cd3927b680ddd74ee"
   },
   "source": [
    "\\begin{align}\n",
    "Sensitivity = \\frac{True\\:Positives}{True\\:Positives + False\\:Negatives}\n",
    "\\end{align}"
   ]
  },
  {
   "cell_type": "code",
   "execution_count": 15,
   "metadata": {},
   "outputs": [],
   "source": [
    "sensitivity_tree = confusion_matrice_tree[1,1]/(confusion_matrice_tree[1,1]+confusion_matrice_tree[1,0])"
   ]
  },
  {
   "cell_type": "code",
   "execution_count": 16,
   "metadata": {},
   "outputs": [
    {
     "data": {
      "text/plain": [
       "0.8461538461538461"
      ]
     },
     "execution_count": 16,
     "metadata": {},
     "output_type": "execute_result"
    }
   ],
   "source": [
    "sensitivity_tree"
   ]
  },
  {
   "cell_type": "markdown",
   "metadata": {
    "_uuid": "a3ef8df36a77ba1921db9954500d692b8bcc2dfd"
   },
   "source": [
    "\\begin{align}\n",
    "Specificity = \\frac{True\\:Negatives}{True\\:Negatives + False\\:Positives}\n",
    "\\end{align}"
   ]
  },
  {
   "cell_type": "code",
   "execution_count": 17,
   "metadata": {},
   "outputs": [],
   "source": [
    "specificity_tree = confusion_matrice_tree[0,0]/(confusion_matrice_tree[0,0]+confusion_matrice_tree[0,1])"
   ]
  },
  {
   "cell_type": "code",
   "execution_count": 18,
   "metadata": {},
   "outputs": [
    {
     "data": {
      "text/plain": [
       "0.7142857142857143"
      ]
     },
     "execution_count": 18,
     "metadata": {},
     "output_type": "execute_result"
    }
   ],
   "source": [
    "specificity_tree"
   ]
  },
  {
   "cell_type": "code",
   "execution_count": 19,
   "metadata": {},
   "outputs": [
    {
     "data": {
      "text/plain": [
       "0.7704918032786885"
      ]
     },
     "execution_count": 19,
     "metadata": {},
     "output_type": "execute_result"
    }
   ],
   "source": [
    "#Nombre de prédiction correctes (VP+VN normalisé)\n",
    "dtc.score(X_test, y_test)\n",
    "\n",
    "#https://scikit-learn.org/stable/modules/model_evaluation.html#accuracy-score"
   ]
  },
  {
   "cell_type": "code",
   "execution_count": 20,
   "metadata": {},
   "outputs": [
    {
     "data": {
      "text/plain": [
       "'digraph Tree {\\nnode [shape=box] ;\\n0 [label=\"X[2] <= 0.5\\\\ngini = 0.489\\\\nsamples = 242\\\\nvalue = [103, 139]\"] ;\\n1 [label=\"X[11] <= 0.5\\\\ngini = 0.405\\\\nsamples = 110\\\\nvalue = [79, 31]\"] ;\\n0 -> 1 [labeldistance=2.5, labelangle=45, headlabel=\"True\"] ;\\n2 [label=\"X[8] <= 0.5\\\\ngini = 0.493\\\\nsamples = 50\\\\nvalue = [22, 28]\"] ;\\n1 -> 2 ;\\n3 [label=\"X[0] <= 41.5\\\\ngini = 0.32\\\\nsamples = 25\\\\nvalue = [5, 20]\"] ;\\n2 -> 3 ;\\n4 [label=\"X[12] <= 2.5\\\\ngini = 0.444\\\\nsamples = 3\\\\nvalue = [2, 1]\"] ;\\n3 -> 4 ;\\n5 [label=\"gini = 0.0\\\\nsamples = 1\\\\nvalue = [0, 1]\"] ;\\n4 -> 5 ;\\n6 [label=\"gini = 0.0\\\\nsamples = 2\\\\nvalue = [2, 0]\"] ;\\n4 -> 6 ;\\n7 [label=\"X[7] <= 96.5\\\\ngini = 0.236\\\\nsamples = 22\\\\nvalue = [3, 19]\"] ;\\n3 -> 7 ;\\n8 [label=\"gini = 0.0\\\\nsamples = 1\\\\nvalue = [1, 0]\"] ;\\n7 -> 8 ;\\n9 [label=\"X[4] <= 271.5\\\\ngini = 0.172\\\\nsamples = 21\\\\nvalue = [2, 19]\"] ;\\n7 -> 9 ;\\n10 [label=\"gini = 0.0\\\\nsamples = 16\\\\nvalue = [0, 16]\"] ;\\n9 -> 10 ;\\n11 [label=\"X[9] <= 0.85\\\\ngini = 0.48\\\\nsamples = 5\\\\nvalue = [2, 3]\"] ;\\n9 -> 11 ;\\n12 [label=\"X[7] <= 158.5\\\\ngini = 0.444\\\\nsamples = 3\\\\nvalue = [2, 1]\"] ;\\n11 -> 12 ;\\n13 [label=\"gini = 0.0\\\\nsamples = 1\\\\nvalue = [0, 1]\"] ;\\n12 -> 13 ;\\n14 [label=\"gini = 0.0\\\\nsamples = 2\\\\nvalue = [2, 0]\"] ;\\n12 -> 14 ;\\n15 [label=\"gini = 0.0\\\\nsamples = 2\\\\nvalue = [0, 2]\"] ;\\n11 -> 15 ;\\n16 [label=\"X[9] <= 0.75\\\\ngini = 0.435\\\\nsamples = 25\\\\nvalue = [17, 8]\"] ;\\n2 -> 16 ;\\n17 [label=\"X[7] <= 147.5\\\\ngini = 0.42\\\\nsamples = 10\\\\nvalue = [3, 7]\"] ;\\n16 -> 17 ;\\n18 [label=\"X[6] <= 0.5\\\\ngini = 0.444\\\\nsamples = 3\\\\nvalue = [2, 1]\"] ;\\n17 -> 18 ;\\n19 [label=\"gini = 0.0\\\\nsamples = 1\\\\nvalue = [0, 1]\"] ;\\n18 -> 19 ;\\n20 [label=\"gini = 0.0\\\\nsamples = 2\\\\nvalue = [2, 0]\"] ;\\n18 -> 20 ;\\n21 [label=\"X[0] <= 40.0\\\\ngini = 0.245\\\\nsamples = 7\\\\nvalue = [1, 6]\"] ;\\n17 -> 21 ;\\n22 [label=\"gini = 0.0\\\\nsamples = 1\\\\nvalue = [1, 0]\"] ;\\n21 -> 22 ;\\n23 [label=\"gini = 0.0\\\\nsamples = 6\\\\nvalue = [0, 6]\"] ;\\n21 -> 23 ;\\n24 [label=\"X[3] <= 112.0\\\\ngini = 0.124\\\\nsamples = 15\\\\nvalue = [14, 1]\"] ;\\n16 -> 24 ;\\n25 [label=\"gini = 0.0\\\\nsamples = 1\\\\nvalue = [0, 1]\"] ;\\n24 -> 25 ;\\n26 [label=\"gini = 0.0\\\\nsamples = 14\\\\nvalue = [14, 0]\"] ;\\n24 -> 26 ;\\n27 [label=\"X[3] <= 109.0\\\\ngini = 0.095\\\\nsamples = 60\\\\nvalue = [57, 3]\"] ;\\n1 -> 27 ;\\n28 [label=\"X[8] <= 0.5\\\\ngini = 0.5\\\\nsamples = 4\\\\nvalue = [2, 2]\"] ;\\n27 -> 28 ;\\n29 [label=\"gini = 0.0\\\\nsamples = 2\\\\nvalue = [0, 2]\"] ;\\n28 -> 29 ;\\n30 [label=\"gini = 0.0\\\\nsamples = 2\\\\nvalue = [2, 0]\"] ;\\n28 -> 30 ;\\n31 [label=\"X[1] <= 0.5\\\\ngini = 0.035\\\\nsamples = 56\\\\nvalue = [55, 1]\"] ;\\n27 -> 31 ;\\n32 [label=\"X[3] <= 134.0\\\\ngini = 0.219\\\\nsamples = 8\\\\nvalue = [7, 1]\"] ;\\n31 -> 32 ;\\n33 [label=\"gini = 0.0\\\\nsamples = 1\\\\nvalue = [0, 1]\"] ;\\n32 -> 33 ;\\n34 [label=\"gini = 0.0\\\\nsamples = 7\\\\nvalue = [7, 0]\"] ;\\n32 -> 34 ;\\n35 [label=\"gini = 0.0\\\\nsamples = 48\\\\nvalue = [48, 0]\"] ;\\n31 -> 35 ;\\n36 [label=\"X[11] <= 0.5\\\\ngini = 0.298\\\\nsamples = 132\\\\nvalue = [24, 108]\"] ;\\n0 -> 36 [labeldistance=2.5, labelangle=-45, headlabel=\"False\"] ;\\n37 [label=\"X[7] <= 160.5\\\\ngini = 0.188\\\\nsamples = 95\\\\nvalue = [10, 85]\"] ;\\n36 -> 37 ;\\n38 [label=\"X[1] <= 0.5\\\\ngini = 0.331\\\\nsamples = 43\\\\nvalue = [9, 34]\"] ;\\n37 -> 38 ;\\n39 [label=\"gini = 0.0\\\\nsamples = 17\\\\nvalue = [0, 17]\"] ;\\n38 -> 39 ;\\n40 [label=\"X[4] <= 263.0\\\\ngini = 0.453\\\\nsamples = 26\\\\nvalue = [9, 17]\"] ;\\n38 -> 40 ;\\n41 [label=\"X[9] <= 2.95\\\\ngini = 0.278\\\\nsamples = 18\\\\nvalue = [3, 15]\"] ;\\n40 -> 41 ;\\n42 [label=\"X[0] <= 65.5\\\\ngini = 0.208\\\\nsamples = 17\\\\nvalue = [2, 15]\"] ;\\n41 -> 42 ;\\n43 [label=\"X[3] <= 109.0\\\\ngini = 0.124\\\\nsamples = 15\\\\nvalue = [1, 14]\"] ;\\n42 -> 43 ;\\n44 [label=\"X[9] <= 0.3\\\\ngini = 0.444\\\\nsamples = 3\\\\nvalue = [1, 2]\"] ;\\n43 -> 44 ;\\n45 [label=\"gini = 0.0\\\\nsamples = 1\\\\nvalue = [1, 0]\"] ;\\n44 -> 45 ;\\n46 [label=\"gini = 0.0\\\\nsamples = 2\\\\nvalue = [0, 2]\"] ;\\n44 -> 46 ;\\n47 [label=\"gini = 0.0\\\\nsamples = 12\\\\nvalue = [0, 12]\"] ;\\n43 -> 47 ;\\n48 [label=\"X[12] <= 2.5\\\\ngini = 0.5\\\\nsamples = 2\\\\nvalue = [1, 1]\"] ;\\n42 -> 48 ;\\n49 [label=\"gini = 0.0\\\\nsamples = 1\\\\nvalue = [0, 1]\"] ;\\n48 -> 49 ;\\n50 [label=\"gini = 0.0\\\\nsamples = 1\\\\nvalue = [1, 0]\"] ;\\n48 -> 50 ;\\n51 [label=\"gini = 0.0\\\\nsamples = 1\\\\nvalue = [1, 0]\"] ;\\n41 -> 51 ;\\n52 [label=\"X[9] <= 3.0\\\\ngini = 0.375\\\\nsamples = 8\\\\nvalue = [6, 2]\"] ;\\n40 -> 52 ;\\n53 [label=\"X[3] <= 109.0\\\\ngini = 0.245\\\\nsamples = 7\\\\nvalue = [6, 1]\"] ;\\n52 -> 53 ;\\n54 [label=\"gini = 0.0\\\\nsamples = 1\\\\nvalue = [0, 1]\"] ;\\n53 -> 54 ;\\n55 [label=\"gini = 0.0\\\\nsamples = 6\\\\nvalue = [6, 0]\"] ;\\n53 -> 55 ;\\n56 [label=\"gini = 0.0\\\\nsamples = 1\\\\nvalue = [0, 1]\"] ;\\n52 -> 56 ;\\n57 [label=\"X[10] <= 0.5\\\\ngini = 0.038\\\\nsamples = 52\\\\nvalue = [1, 51]\"] ;\\n37 -> 57 ;\\n58 [label=\"X[7] <= 168.5\\\\ngini = 0.444\\\\nsamples = 3\\\\nvalue = [1, 2]\"] ;\\n57 -> 58 ;\\n59 [label=\"gini = 0.0\\\\nsamples = 1\\\\nvalue = [1, 0]\"] ;\\n58 -> 59 ;\\n60 [label=\"gini = 0.0\\\\nsamples = 2\\\\nvalue = [0, 2]\"] ;\\n58 -> 60 ;\\n61 [label=\"gini = 0.0\\\\nsamples = 49\\\\nvalue = [0, 49]\"] ;\\n57 -> 61 ;\\n62 [label=\"X[10] <= 1.5\\\\ngini = 0.47\\\\nsamples = 37\\\\nvalue = [14, 23]\"] ;\\n36 -> 62 ;\\n63 [label=\"X[9] <= 0.55\\\\ngini = 0.408\\\\nsamples = 14\\\\nvalue = [10, 4]\"] ;\\n62 -> 63 ;\\n64 [label=\"X[3] <= 126.5\\\\ngini = 0.49\\\\nsamples = 7\\\\nvalue = [3, 4]\"] ;\\n63 -> 64 ;\\n65 [label=\"gini = 0.0\\\\nsamples = 3\\\\nvalue = [0, 3]\"] ;\\n64 -> 65 ;\\n66 [label=\"X[4] <= 262.0\\\\ngini = 0.375\\\\nsamples = 4\\\\nvalue = [3, 1]\"] ;\\n64 -> 66 ;\\n67 [label=\"gini = 0.0\\\\nsamples = 3\\\\nvalue = [3, 0]\"] ;\\n66 -> 67 ;\\n68 [label=\"gini = 0.0\\\\nsamples = 1\\\\nvalue = [0, 1]\"] ;\\n66 -> 68 ;\\n69 [label=\"gini = 0.0\\\\nsamples = 7\\\\nvalue = [7, 0]\"] ;\\n63 -> 69 ;\\n70 [label=\"X[3] <= 176.0\\\\ngini = 0.287\\\\nsamples = 23\\\\nvalue = [4, 19]\"] ;\\n62 -> 70 ;\\n71 [label=\"X[11] <= 1.5\\\\ngini = 0.236\\\\nsamples = 22\\\\nvalue = [3, 19]\"] ;\\n70 -> 71 ;\\n72 [label=\"gini = 0.0\\\\nsamples = 13\\\\nvalue = [0, 13]\"] ;\\n71 -> 72 ;\\n73 [label=\"X[7] <= 167.5\\\\ngini = 0.444\\\\nsamples = 9\\\\nvalue = [3, 6]\"] ;\\n71 -> 73 ;\\n74 [label=\"X[3] <= 138.0\\\\ngini = 0.375\\\\nsamples = 4\\\\nvalue = [3, 1]\"] ;\\n73 -> 74 ;\\n75 [label=\"gini = 0.0\\\\nsamples = 3\\\\nvalue = [3, 0]\"] ;\\n74 -> 75 ;\\n76 [label=\"gini = 0.0\\\\nsamples = 1\\\\nvalue = [0, 1]\"] ;\\n74 -> 76 ;\\n77 [label=\"gini = 0.0\\\\nsamples = 5\\\\nvalue = [0, 5]\"] ;\\n73 -> 77 ;\\n78 [label=\"gini = 0.0\\\\nsamples = 1\\\\nvalue = [1, 0]\"] ;\\n70 -> 78 ;\\n}'"
      ]
     },
     "execution_count": 20,
     "metadata": {},
     "output_type": "execute_result"
    }
   ],
   "source": [
    "#Visualisation de l'arbre méthode 1\n",
    "tree.export_graphviz(dtc)\n",
    "#http://webgraphviz.com/\n",
    "\n",
    "#http://viz-js.com/\n",
    "#tree.export_graphviz(dtc,out_file='graph.txt')"
   ]
  },
  {
   "cell_type": "code",
   "execution_count": 21,
   "metadata": {},
   "outputs": [
    {
     "data": {
      "text/plain": [
       "True"
      ]
     },
     "execution_count": 21,
     "metadata": {},
     "output_type": "execute_result"
    }
   ],
   "source": [
    "#Visualisation de l'arbre méthode 2\n",
    "tree.export_graphviz(dtc, out_file=\"tree.dot\")\n",
    "with open(\"tree.dot\", 'w') as my_file:\n",
    "    tree.export_graphviz(dtc)\n",
    "    \n",
    "dot_data = tree.export_graphviz(dtc, out_file=None,\n",
    "            feature_names=X_train.columns,\n",
    "            class_names=['sick','not sick'],\n",
    "            filled=True, rounded=True,\n",
    "            special_characters=True)\n",
    "graph = pydotplus.graph_from_dot_data(dot_data)\n",
    "graph.write_pdf(\"D:/heart.pdf\")"
   ]
  },
  {
   "cell_type": "markdown",
   "metadata": {},
   "source": [
    "- Mettre à jour scikit-learn vers version 0.23.2 (avec anaconda environment\n",
    "- Installer  graphiviz https://www2.graphviz.org/Packages/development/windows/10/cmake/Release/x64/\n",
    "- Dans anaconda prompt:  dot -c\n",
    "- Redemarrer Anaconda\n",
    "- \"dot -c\" dans anaconda"
   ]
  },
  {
   "cell_type": "code",
   "execution_count": 22,
   "metadata": {},
   "outputs": [
    {
     "data": {
      "image/png": "[encoded data removed]",
      "text/plain": [
       "<Figure size 432x288 with 1 Axes>"
      ]
     },
     "metadata": {
      "needs_background": "light"
     },
     "output_type": "display_data"
    }
   ],
   "source": [
    "#Visualisation de l'arbre méthode 3\n",
    "from sklearn.tree import plot_tree\n",
    "plt.figure()\n",
    "plot_tree(dtc, filled=True)\n",
    "plt.show()"
   ]
  },
  {
   "cell_type": "code",
   "execution_count": 23,
   "metadata": {},
   "outputs": [
    {
     "data": {
      "image/png": "[encoded data removed]",
      "text/plain": [
       "<Figure size 432x288 with 1 Axes>"
      ]
     },
     "metadata": {
      "needs_background": "light"
     },
     "output_type": "display_data"
    }
   ],
   "source": [
    "plt.figure()\n",
    "plot_tree(dtc, filled=True, max_depth=1)\n",
    "plt.show()"
   ]
  },
  {
   "cell_type": "code",
   "execution_count": 24,
   "metadata": {},
   "outputs": [
    {
     "data": {
      "text/plain": [
       "Text(0.5, 1.0, 'Arbre de décision')"
      ]
     },
     "execution_count": 24,
     "metadata": {},
     "output_type": "execute_result"
    },
    {
     "data": {
      "image/png": "[encoded data removed]",
      "text/plain": [
       "<Figure size 432x288 with 1 Axes>"
      ]
     },
     "metadata": {
      "needs_background": "light"
     },
     "output_type": "display_data"
    }
   ],
   "source": [
    "#Analyse de sensibilité\n",
    "profondeur = dtc.get_depth()\n",
    "sensi_depth_app = np.ones(profondeur) * np.nan\n",
    "sensi_depth_test = np.ones(profondeur) * np.nan\n",
    "\n",
    "for i in range(1,profondeur+1):\n",
    "    #model\n",
    "    dtc1 = DecisionTreeClassifier(max_depth=i)\n",
    "    dtc1.fit(X_train, y_train)\n",
    "    #predict sur test\n",
    "    y_esti_tree = dtc1.predict(X_test)\n",
    "    confusion_matrice = confusion_matrix(y_test, y_esti_tree)\n",
    "    sensi_depth_test[i-1] = confusion_matrice[1,1]/(confusion_matrice[1,1]+confusion_matrice[1,0])\n",
    "    #predict sur app\n",
    "    y_esti_tree = dtc1.predict(X_train)\n",
    "    confusion_matrice = confusion_matrix(y_train, y_esti_tree)\n",
    "    sensi_depth_app[i-1] = confusion_matrice[1,1]/(confusion_matrice[1,1]+confusion_matrice[1,0])\n",
    "\n",
    "plt.grid()\n",
    "plt.plot(range(1,profondeur+1), sensi_depth_app, color=\"blue\")\n",
    "plt.plot(range(1,profondeur+1), sensi_depth_test, color=\"red\")\n",
    "plt.ylabel(\"Sensibilité\")\n",
    "plt.xlabel(\"Profondeur de l'arbre [Nombre de niveaux]\")\n",
    "plt.legend(['Apprentissage','Test'])\n",
    "plt.title('Arbre de décision')"
   ]
  },
  {
   "cell_type": "markdown",
   "metadata": {
    "_uuid": "58c7f30375a2ffb7e02763e249e441a12cd437f1"
   },
   "source": [
    "# Random Forest"
   ]
  },
  {
   "cell_type": "code",
   "execution_count": 25,
   "metadata": {},
   "outputs": [],
   "source": [
    "#le modèle\n",
    "rf = RandomForestClassifier(max_depth=5)"
   ]
  },
  {
   "cell_type": "code",
   "execution_count": 26,
   "metadata": {
    "_uuid": "6169b0b96267bea8bd8c35d64470d634edd79d78"
   },
   "outputs": [
    {
     "data": {
      "text/plain": [
       "RandomForestClassifier(bootstrap=True, class_weight=None, criterion='gini',\n",
       "                       max_depth=5, max_features='auto', max_leaf_nodes=None,\n",
       "                       min_impurity_decrease=0.0, min_impurity_split=None,\n",
       "                       min_samples_leaf=1, min_samples_split=2,\n",
       "                       min_weight_fraction_leaf=0.0, n_estimators=10,\n",
       "                       n_jobs=None, oob_score=False, random_state=None,\n",
       "                       verbose=0, warm_start=False)"
      ]
     },
     "execution_count": 26,
     "metadata": {},
     "output_type": "execute_result"
    }
   ],
   "source": [
    "#Apprentissage\n",
    "rf.fit(X_train, y_train)"
   ]
  },
  {
   "cell_type": "code",
   "execution_count": 27,
   "metadata": {
    "_uuid": "c215bcb6b80e12905f54b6a33620b6514d1e915a"
   },
   "outputs": [],
   "source": [
    "#Prédiction sur les données de tests\n",
    "y_esti_rf = rf.predict(X_test)"
   ]
  },
  {
   "cell_type": "code",
   "execution_count": 28,
   "metadata": {},
   "outputs": [
    {
     "data": {
      "text/plain": [
       "array([0, 0, 1, 0, 1, 1, 1, 1, 0], dtype=int64)"
      ]
     },
     "execution_count": 28,
     "metadata": {},
     "output_type": "execute_result"
    }
   ],
   "source": [
    "#Affiche les 10 premiers résultats\n",
    "y_esti_rf[1:10]"
   ]
  },
  {
   "cell_type": "code",
   "execution_count": 29,
   "metadata": {
    "_uuid": "a0fe6269405b8404a60fd656ee2940f50cc4c0d3"
   },
   "outputs": [
    {
     "data": {
      "text/plain": [
       "array([[29,  6],\n",
       "       [ 3, 23]], dtype=int64)"
      ]
     },
     "execution_count": 29,
     "metadata": {},
     "output_type": "execute_result"
    }
   ],
   "source": [
    "#Matrice de confusion\n",
    "confusion_matrice_rf = confusion_matrix(y_test, y_esti_rf)\n",
    "confusion_matrice_rf"
   ]
  },
  {
   "cell_type": "code",
   "execution_count": 30,
   "metadata": {},
   "outputs": [
    {
     "data": {
      "text/plain": [
       "0.8285714285714286"
      ]
     },
     "execution_count": 30,
     "metadata": {},
     "output_type": "execute_result"
    }
   ],
   "source": [
    "specificity_rf = confusion_matrice_rf[0,0]/(confusion_matrice_rf[0,0]+confusion_matrice_rf[0,1])\n",
    "specificity_rf"
   ]
  },
  {
   "cell_type": "code",
   "execution_count": 31,
   "metadata": {},
   "outputs": [
    {
     "data": {
      "text/plain": [
       "0.8846153846153846"
      ]
     },
     "execution_count": 31,
     "metadata": {},
     "output_type": "execute_result"
    }
   ],
   "source": [
    "sensitivity_rf = confusion_matrice_rf[1,1]/(confusion_matrice_rf[1,1]+confusion_matrice_rf[1,0])\n",
    "sensitivity_rf"
   ]
  },
  {
   "cell_type": "code",
   "execution_count": 32,
   "metadata": {},
   "outputs": [
    {
     "data": {
      "image/png": "[encoded data removed]",
      "text/plain": [
       "<Figure size 432x288 with 1 Axes>"
      ]
     },
     "metadata": {
      "needs_background": "light"
     },
     "output_type": "display_data"
    }
   ],
   "source": [
    "#Projection des résultats d'une matrice de confusion sur l'espace ROC\n",
    "fpr_pred, tpr_pred, thresholds_pred = roc_curve(y_test, y_esti_rf)\n",
    "\n",
    "fig, ax = plt.subplots()\n",
    "ax.plot(fpr_pred, tpr_pred, '.')\n",
    "ax.plot([0, 1], [0, 1], transform=ax.transAxes, ls=\"--\", c=\".3\")\n",
    "plt.xlim([0.0, 1.0])\n",
    "plt.ylim([0.0, 1.0])\n",
    "plt.rcParams['font.size'] = 12\n",
    "plt.xlabel('False Positive Rate (1 - Specificity)')\n",
    "plt.ylabel('True Positive Rate (Sensitivity)')\n",
    "plt.grid(True)"
   ]
  },
  {
   "cell_type": "code",
   "execution_count": 33,
   "metadata": {},
   "outputs": [
    {
     "data": {
      "text/plain": [
       "array([0.14337662, 0.35892857, 0.44693182, 0.75980415, 0.28104808,\n",
       "       0.76666667, 0.62067288, 0.6896063 , 0.91972302, 0.08666667,\n",
       "       0.86943978, 0.1594824 , 0.44598722, 0.88705882, 0.23825758,\n",
       "       0.91372549, 0.05859649, 0.02318182, 0.68205882, 0.31      ,\n",
       "       0.1037013 , 0.7158563 , 0.65355311, 0.92806568, 0.12      ,\n",
       "       0.29318182, 0.005     , 0.02871795, 0.77380952, 0.005     ,\n",
       "       0.91787488, 0.15375   , 0.03746753, 0.25809524, 0.        ,\n",
       "       0.09523998, 0.68809524, 0.45519669, 0.92166667, 0.44571429,\n",
       "       0.13357143, 0.115     , 0.55423585, 0.535     , 0.96460107,\n",
       "       0.44879731, 0.625     , 0.81702464, 0.68872549, 0.5052381 ,\n",
       "       0.30288462, 0.90368871, 0.005     , 0.08015493, 0.98083624,\n",
       "       0.58785714, 0.69846861, 0.82126707, 0.005     , 0.005     ,\n",
       "       0.91626984])"
      ]
     },
     "execution_count": 33,
     "metadata": {},
     "output_type": "execute_result"
    }
   ],
   "source": [
    "#class probability predictions\n",
    "y_esti_quant_rf = rf.predict_proba(X_test)[:,1]\n",
    "y_esti_quant_rf"
   ]
  },
  {
   "cell_type": "code",
   "execution_count": 34,
   "metadata": {
    "_uuid": "82e957d065f62731292b9aac5ae97b4a06471857",
    "scrolled": true
   },
   "outputs": [
    {
     "data": {
      "image/png": "[encoded data removed]",
      "text/plain": [
       "<Figure size 432x288 with 1 Axes>"
      ]
     },
     "metadata": {
      "needs_background": "light"
     },
     "output_type": "display_data"
    }
   ],
   "source": [
    "#Courbe ROC\n",
    "fpr, tpr, thresholds = roc_curve(y_test, y_esti_quant_rf)\n",
    "\n",
    "fig, ax = plt.subplots()\n",
    "ax.plot(fpr, tpr, '.-')\n",
    "ax.plot([0, 1], [0, 1], transform=ax.transAxes, ls=\"--\", c=\".3\")\n",
    "plt.xlim([0.0, 1.0])\n",
    "plt.ylim([0.0, 1.0])\n",
    "plt.rcParams['font.size'] = 12\n",
    "plt.title('ROC curve')\n",
    "plt.xlabel('False Positive Rate (1 - Specificity)')\n",
    "plt.ylabel('True Positive Rate (Sensitivity)')\n",
    "plt.grid(True)"
   ]
  },
  {
   "cell_type": "code",
   "execution_count": 35,
   "metadata": {
    "_uuid": "9ca5cf9a346ee339d3a5133b92ae4c80fcccf2e2"
   },
   "outputs": [
    {
     "data": {
      "text/plain": [
       "0.8945054945054944"
      ]
     },
     "execution_count": 35,
     "metadata": {},
     "output_type": "execute_result"
    }
   ],
   "source": [
    "#Aire sous la courbe ROC (AUC)\n",
    "auc(fpr, tpr)"
   ]
  },
  {
   "cell_type": "code",
   "execution_count": 36,
   "metadata": {},
   "outputs": [
    {
     "data": {
      "text/plain": [
       "0.8524590163934426"
      ]
     },
     "execution_count": 36,
     "metadata": {},
     "output_type": "execute_result"
    }
   ],
   "source": [
    "#Nombre de prédiction correctes (VP+VN normalisé)\n",
    "rf.score(X_test,y_test)"
   ]
  },
  {
   "cell_type": "markdown",
   "metadata": {
    "_uuid": "565395408d00bbd3dfeadea271ad01b14f84e472"
   },
   "source": [
    "# Permutation importance"
   ]
  },
  {
   "cell_type": "code",
   "execution_count": 37,
   "metadata": {
    "_uuid": "18f59283a9d0558d94a942d0d2efbdd58c3f3c49"
   },
   "outputs": [
    {
     "data": {
      "text/html": [
       "\n",
       "    <style>\n",
       "    table.eli5-weights tr:hover {\n",
       "        filter: brightness(85%);\n",
       "    }\n",
       "</style>\n",
       "\n",
       "\n",
       "\n",
       "    \n",
       "\n",
       "    \n",
       "\n",
       "    \n",
       "\n",
       "    \n",
       "\n",
       "    \n",
       "\n",
       "    \n",
       "\n",
       "\n",
       "    \n",
       "\n",
       "    \n",
       "\n",
       "    \n",
       "\n",
       "    \n",
       "\n",
       "    \n",
       "\n",
       "    \n",
       "\n",
       "\n",
       "    \n",
       "\n",
       "    \n",
       "\n",
       "    \n",
       "\n",
       "    \n",
       "\n",
       "    \n",
       "        <table class=\"eli5-weights eli5-feature-importances\" style=\"border-collapse: collapse; border: none; margin-top: 0em; table-layout: auto;\">\n",
       "    <thead>\n",
       "    <tr style=\"border: none;\">\n",
       "        <th style=\"padding: 0 1em 0 0.5em; text-align: right; border: none;\">Weight</th>\n",
       "        <th style=\"padding: 0 0.5em 0 0.5em; text-align: left; border: none;\">Feature</th>\n",
       "    </tr>\n",
       "    </thead>\n",
       "    <tbody>\n",
       "    \n",
       "        <tr style=\"background-color: hsl(120, 100.00%, 80.00%); border: none;\">\n",
       "            <td style=\"padding: 0 1em 0 0.5em; text-align: right; border: none;\">\n",
       "                0.1016\n",
       "                \n",
       "                    &plusmn; 0.0321\n",
       "                \n",
       "            </td>\n",
       "            <td style=\"padding: 0 0.5em 0 0.5em; text-align: left; border: none;\">\n",
       "                chest_pain_type\n",
       "            </td>\n",
       "        </tr>\n",
       "    \n",
       "        <tr style=\"background-color: hsl(120, 100.00%, 85.80%); border: none;\">\n",
       "            <td style=\"padding: 0 1em 0 0.5em; text-align: right; border: none;\">\n",
       "                0.0623\n",
       "                \n",
       "                    &plusmn; 0.0382\n",
       "                \n",
       "            </td>\n",
       "            <td style=\"padding: 0 0.5em 0 0.5em; text-align: left; border: none;\">\n",
       "                thalassemia\n",
       "            </td>\n",
       "        </tr>\n",
       "    \n",
       "        <tr style=\"background-color: hsl(120, 100.00%, 87.41%); border: none;\">\n",
       "            <td style=\"padding: 0 1em 0 0.5em; text-align: right; border: none;\">\n",
       "                0.0525\n",
       "                \n",
       "                    &plusmn; 0.0382\n",
       "                \n",
       "            </td>\n",
       "            <td style=\"padding: 0 0.5em 0 0.5em; text-align: left; border: none;\">\n",
       "                age\n",
       "            </td>\n",
       "        </tr>\n",
       "    \n",
       "        <tr style=\"background-color: hsl(120, 100.00%, 89.11%); border: none;\">\n",
       "            <td style=\"padding: 0 1em 0 0.5em; text-align: right; border: none;\">\n",
       "                0.0426\n",
       "                \n",
       "                    &plusmn; 0.0608\n",
       "                \n",
       "            </td>\n",
       "            <td style=\"padding: 0 0.5em 0 0.5em; text-align: left; border: none;\">\n",
       "                num_major_vessels\n",
       "            </td>\n",
       "        </tr>\n",
       "    \n",
       "        <tr style=\"background-color: hsl(120, 100.00%, 91.59%); border: none;\">\n",
       "            <td style=\"padding: 0 1em 0 0.5em; text-align: right; border: none;\">\n",
       "                0.0295\n",
       "                \n",
       "                    &plusmn; 0.0601\n",
       "                \n",
       "            </td>\n",
       "            <td style=\"padding: 0 0.5em 0 0.5em; text-align: left; border: none;\">\n",
       "                st_depression\n",
       "            </td>\n",
       "        </tr>\n",
       "    \n",
       "        <tr style=\"background-color: hsl(120, 100.00%, 91.59%); border: none;\">\n",
       "            <td style=\"padding: 0 1em 0 0.5em; text-align: right; border: none;\">\n",
       "                0.0295\n",
       "                \n",
       "                    &plusmn; 0.0245\n",
       "                \n",
       "            </td>\n",
       "            <td style=\"padding: 0 0.5em 0 0.5em; text-align: left; border: none;\">\n",
       "                exercise_induced_angina\n",
       "            </td>\n",
       "        </tr>\n",
       "    \n",
       "        <tr style=\"background-color: hsl(120, 100.00%, 92.94%); border: none;\">\n",
       "            <td style=\"padding: 0 1em 0 0.5em; text-align: right; border: none;\">\n",
       "                0.0230\n",
       "                \n",
       "                    &plusmn; 0.0262\n",
       "                \n",
       "            </td>\n",
       "            <td style=\"padding: 0 0.5em 0 0.5em; text-align: left; border: none;\">\n",
       "                sex\n",
       "            </td>\n",
       "        </tr>\n",
       "    \n",
       "        <tr style=\"background-color: hsl(120, 100.00%, 93.66%); border: none;\">\n",
       "            <td style=\"padding: 0 1em 0 0.5em; text-align: right; border: none;\">\n",
       "                0.0197\n",
       "                \n",
       "                    &plusmn; 0.0131\n",
       "                \n",
       "            </td>\n",
       "            <td style=\"padding: 0 0.5em 0 0.5em; text-align: left; border: none;\">\n",
       "                st_slope\n",
       "            </td>\n",
       "        </tr>\n",
       "    \n",
       "        <tr style=\"background-color: hsl(120, 100.00%, 95.23%); border: none;\">\n",
       "            <td style=\"padding: 0 1em 0 0.5em; text-align: right; border: none;\">\n",
       "                0.0131\n",
       "                \n",
       "                    &plusmn; 0.0245\n",
       "                \n",
       "            </td>\n",
       "            <td style=\"padding: 0 0.5em 0 0.5em; text-align: left; border: none;\">\n",
       "                resting_blood_pressure\n",
       "            </td>\n",
       "        </tr>\n",
       "    \n",
       "        <tr style=\"background-color: hsl(120, 100.00%, 96.10%); border: none;\">\n",
       "            <td style=\"padding: 0 1em 0 0.5em; text-align: right; border: none;\">\n",
       "                0.0098\n",
       "                \n",
       "                    &plusmn; 0.0334\n",
       "                \n",
       "            </td>\n",
       "            <td style=\"padding: 0 0.5em 0 0.5em; text-align: left; border: none;\">\n",
       "                max_heart_rate_achieved\n",
       "            </td>\n",
       "        </tr>\n",
       "    \n",
       "        <tr style=\"background-color: hsl(120, 100.00%, 97.06%); border: none;\">\n",
       "            <td style=\"padding: 0 1em 0 0.5em; text-align: right; border: none;\">\n",
       "                0.0066\n",
       "                \n",
       "                    &plusmn; 0.0161\n",
       "                \n",
       "            </td>\n",
       "            <td style=\"padding: 0 0.5em 0 0.5em; text-align: left; border: none;\">\n",
       "                cholesterol\n",
       "            </td>\n",
       "        </tr>\n",
       "    \n",
       "        <tr style=\"background-color: hsl(120, 100.00%, 98.19%); border: none;\">\n",
       "            <td style=\"padding: 0 1em 0 0.5em; text-align: right; border: none;\">\n",
       "                0.0033\n",
       "                \n",
       "                    &plusmn; 0.0131\n",
       "                \n",
       "            </td>\n",
       "            <td style=\"padding: 0 0.5em 0 0.5em; text-align: left; border: none;\">\n",
       "                fasting_blood_sugar\n",
       "            </td>\n",
       "        </tr>\n",
       "    \n",
       "        <tr style=\"background-color: hsl(0, 100.00%, 100.00%); border: none;\">\n",
       "            <td style=\"padding: 0 1em 0 0.5em; text-align: right; border: none;\">\n",
       "                0\n",
       "                \n",
       "                    &plusmn; 0.0000\n",
       "                \n",
       "            </td>\n",
       "            <td style=\"padding: 0 0.5em 0 0.5em; text-align: left; border: none;\">\n",
       "                rest_ecg\n",
       "            </td>\n",
       "        </tr>\n",
       "    \n",
       "    \n",
       "    </tbody>\n",
       "</table>\n",
       "    \n",
       "\n",
       "    \n",
       "\n",
       "\n",
       "    \n",
       "\n",
       "    \n",
       "\n",
       "    \n",
       "\n",
       "    \n",
       "\n",
       "    \n",
       "\n",
       "    \n",
       "\n",
       "\n",
       "\n"
      ],
      "text/plain": [
       "<IPython.core.display.HTML object>"
      ]
     },
     "execution_count": 37,
     "metadata": {},
     "output_type": "execute_result"
    }
   ],
   "source": [
    "perm = PermutationImportance(rf, random_state=1).fit(X_test, y_test)\n",
    "eli5.show_weights(perm, feature_names = X_test.columns.tolist())"
   ]
  },
  {
   "cell_type": "code",
   "execution_count": 38,
   "metadata": {},
   "outputs": [
    {
     "name": "stdout",
     "output_type": "stream",
     "text": [
      "Explained as: feature importances\n",
      "\n",
      "Feature importances, computed as a decrease in score when feature\n",
      "values are permuted (i.e. become noise). This is also known as \n",
      "permutation importance.\n",
      "\n",
      "If feature importances are computed on the same data as used for training, \n",
      "they don't reflect importance of features for generalization. Use a held-out\n",
      "dataset if you want generalization feature importances.\n",
      "\n",
      "0.1016 ± 0.0321  chest_pain_type\n",
      "0.0623 ± 0.0382  thalassemia\n",
      "0.0525 ± 0.0382  age\n",
      "0.0426 ± 0.0608  num_major_vessels\n",
      "0.0295 ± 0.0601  st_depression\n",
      "0.0295 ± 0.0245  exercise_induced_angina\n",
      "0.0230 ± 0.0262  sex\n",
      "0.0197 ± 0.0131  st_slope\n",
      "0.0131 ± 0.0245  resting_blood_pressure\n",
      "0.0098 ± 0.0334  max_heart_rate_achieved\n",
      "0.0066 ± 0.0161  cholesterol\n",
      "0.0033 ± 0.0131  fasting_blood_sugar\n",
      "     0 ± 0.0000  rest_ecg\n"
     ]
    }
   ],
   "source": [
    "#Code pour afficher sur l'IDE (méthode 1)\n",
    "print(eli5.format_as_text(eli5.explain_weights(perm, feature_names=X_test.columns.tolist())))"
   ]
  },
  {
   "cell_type": "code",
   "execution_count": null,
   "metadata": {},
   "outputs": [],
   "source": [
    "#Code pour afficher sur l'IDE (méthode 2)\n",
    "perm = PermutationImportance(rf, random_state=1).fit(X_test, y_test)\n",
    "html_obj = eli5.show_weights(perm, feature_names = X_test.columns.tolist())\n",
    "with open('permutation-importance.htm','wb') as f:\n",
    "    f.write(html_obj.data.encode(\"UTF-8\"))"
   ]
  },
  {
   "cell_type": "code",
   "execution_count": 39,
   "metadata": {},
   "outputs": [],
   "source": [
    "#Analyse de sensibilité \n",
    "#from sklearn.grid_search import GridSearchCV\n",
    "from sklearn.model_selection import GridSearchCV\n",
    "from sklearn.ensemble import BaggingClassifier\n",
    "\n",
    "rf_model = RandomForestClassifier()\n",
    "\n",
    "parameters = [{\"n_estimators\":[1,5,10,20,50], 'max_depth': [2, 5, 10, 15]}]\n",
    "grid_bag = GridSearchCV(estimator=rf_model, param_grid=parameters, cv=5, scoring=\"recall\")\n",
    "\n",
    "grid = grid_bag.fit(X_train, y_train)"
   ]
  },
  {
   "cell_type": "code",
   "execution_count": 40,
   "metadata": {},
   "outputs": [
    {
     "data": {
      "text/plain": [
       "0.9426680222134767"
      ]
     },
     "execution_count": 40,
     "metadata": {},
     "output_type": "execute_result"
    }
   ],
   "source": [
    "grid.best_score_"
   ]
  },
  {
   "cell_type": "code",
   "execution_count": 41,
   "metadata": {},
   "outputs": [
    {
     "data": {
      "text/plain": [
       "{'max_depth': 2, 'n_estimators': 50}"
      ]
     },
     "execution_count": 41,
     "metadata": {},
     "output_type": "execute_result"
    }
   ],
   "source": [
    "grid.best_params_"
   ]
  },
  {
   "cell_type": "code",
   "execution_count": null,
   "metadata": {},
   "outputs": [],
   "source": []
  }
 ],
 "metadata": {
  "kernelspec": {
   "display_name": "Python 3",
   "language": "python",
   "name": "python3"
  },
  "language_info": {
   "codemirror_mode": {
    "name": "ipython",
    "version": 3
   },
   "file_extension": ".py",
   "mimetype": "text/x-python",
   "name": "python",
   "nbconvert_exporter": "python",
   "pygments_lexer": "ipython3",
   "version": "3.7.3"
  }
 },
 "nbformat": 4,
 "nbformat_minor": 1
}
